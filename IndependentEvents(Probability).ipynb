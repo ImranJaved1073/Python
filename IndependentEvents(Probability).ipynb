{
 "cells": [
  {
   "cell_type": "code",
   "execution_count": null,
   "id": "0493b9bf",
   "metadata": {},
   "outputs": [],
   "source": [
    "def compute_probability(E,S,P):\n",
    "    probability = 0\n",
    "    for i in range(len(S)):    \n",
    "        for j in range(len(E)):\n",
    "            if E[j] == S[i]:\n",
    "                probability += P[i]\n",
    "    return round(probability,1)"
   ]
  },
  {
   "cell_type": "code",
   "execution_count": null,
   "id": "b9c61364",
   "metadata": {},
   "outputs": [],
   "source": [
    "def find_intersection(A,B):\n",
    "    intersection = []\n",
    "    for i in A:\n",
    "        for j in B:\n",
    "            if i == j:\n",
    "                intersection.append(i)\n",
    "    return intersection"
   ]
  },
  {
   "cell_type": "code",
   "execution_count": null,
   "id": "94b43be2",
   "metadata": {},
   "outputs": [],
   "source": [
    "def get_subsets(s):\n",
    "    length = len(s)\n",
    "    subset = 2 ** length\n",
    "    power_set = []\n",
    "    for i in range(subset):\n",
    "        subset = []\n",
    "        for j in range(length):\n",
    "            if (i & (1 << j)) > 0:\n",
    "                subset.append(s[j])\n",
    "        if subset != [] and subset != s:\n",
    "            power_set.append(subset)\n",
    "    return power_set"
   ]
  },
  {
   "cell_type": "code",
   "execution_count": null,
   "id": "8d5e9aa2",
   "metadata": {},
   "outputs": [],
   "source": [
    "def get_sample_space(n): # returns sample space\n",
    "    sample_space=[]\n",
    "    for i in range(1,n+1):\n",
    "        while True:\n",
    "            element = int(input(\"Enter the element \" + str (i) + \": \"))\n",
    "            if element not in sample_space:\n",
    "                sample_space.append(element)\n",
    "                break\n",
    "            else:\n",
    "                print(\"DUPLICATES not allowed in the sample space.Enter Unique element again!!!\")\n",
    "    return sample_space"
   ]
  },
  {
   "cell_type": "code",
   "execution_count": null,
   "id": "90310392",
   "metadata": {},
   "outputs": [],
   "source": [
    "def get_probability_of_sample_space(n):\n",
    "    print(\"Enter the probability of each element\")\n",
    "    probability_list=[]\n",
    "\n",
    "    while True:\n",
    "        for i in range(n):\n",
    "            probability = float(input(\"Enter the probability of element \" + str (i + 1) + \": \"))\n",
    "            while probability < 0 or probability > 1:\n",
    "                print(\"Probability should be in range [0,1]\")\n",
    "                probability = float(input(\"Enter the probability of element \" + str (i + 1) + \": \"))\n",
    "            probability_list.append(probability)\n",
    "        if round(sum(probability_list),1) == 1:\n",
    "            break\n",
    "        else:\n",
    "            print(\"Sum of probabilities should be 1.Enter again!!!\")\n",
    "            probability_list.clear()\n",
    "    return probability_list"
   ]
  },
  {
   "cell_type": "code",
   "execution_count": null,
   "id": "69976678",
   "metadata": {},
   "outputs": [],
   "source": [
    "def get_independent_pairs(subsets,sample_space,P):\n",
    "    independent_pairs = []\n",
    "    for i in range(len(subsets)):\n",
    "        for j in range(i+1,len(subsets)):\n",
    "            p_aIb = compute_probability(find_intersection(subsets[i],subsets[j]),sample_space,P)# conatins probability of (A Intersection B)\n",
    "            p_a = compute_probability(subsets[i],sample_space,P)# contains probability of A\n",
    "            p_b = compute_probability(subsets[j],sample_space,P)# contains probability of B\n",
    "            if p_aIb == p_a * p_b:\n",
    "                independent_pairs.append([subsets[i],subsets[j]])\n",
    "    return independent_pairs"
   ]
  },
  {
   "cell_type": "markdown",
   "id": "9807d452",
   "metadata": {},
   "source": [
    "# MAIN "
   ]
  },
  {
   "cell_type": "code",
   "execution_count": null,
   "id": "4db6de1b",
   "metadata": {},
   "outputs": [],
   "source": [
    "# main starts here =======> S ------> Sample space\n",
    "#                           P ------> contains Probabilities of Sample space\n",
    "\n",
    "n = int(input(\"Enter the number of elements in the Sample Space \"))\n",
    "while n < 2:\n",
    "    print(\"Sample space should have atleast 2 elements.Enter again!!!\")\n",
    "    n = int(input(\"Enter the number of elements in the Sample Space \"))\n",
    "\n",
    "S = get_sample_space(n)            \n",
    "P = get_probability_of_sample_space(n)\n",
    "        \n",
    "print(\"\\nSample Space: \",S) \n",
    "print(\"Probabilities List: \",P,\"\\n\") \n",
    "\n",
    "subsets = get_subsets(S) # contains subsets of Sample space (S)\n",
    "# print(subsets,\"\\n\\n\")\n",
    "\n",
    "print(\"\\n======================= INDEPENDENT EVENT PAIRS ===========================\\n\")\n",
    "independent_pairs = get_independent_pairs(subsets,S,P) # conatains pairs that are independent to each other\n",
    "for pair in independent_pairs:\n",
    "    print(pair)\n",
    "    \n",
    "print(\"\\n===========================================================================\\n\") \n",
    "print(\"\\nTOTAL INDEPENDENT PAIRS ARE:\",len(independent_pairs))"
   ]
  }
 ],
 "metadata": {
  "kernelspec": {
   "display_name": "Python 3 (ipykernel)",
   "language": "python",
   "name": "python3"
  },
  "language_info": {
   "codemirror_mode": {
    "name": "ipython",
    "version": 3
   },
   "file_extension": ".py",
   "mimetype": "text/x-python",
   "name": "python",
   "nbconvert_exporter": "python",
   "pygments_lexer": "ipython3",
   "version": "3.10.9"
  }
 },
 "nbformat": 4,
 "nbformat_minor": 5
}
